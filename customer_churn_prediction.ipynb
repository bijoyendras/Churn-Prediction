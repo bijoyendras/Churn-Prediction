{
  "nbformat": 4,
  "nbformat_minor": 0,
  "metadata": {
    "colab": {
      "provenance": []
    },
    "kernelspec": {
      "name": "python3",
      "display_name": "Python 3"
    },
    "language_info": {
      "name": "python"
    }
  },
  "cells": [
    {
      "cell_type": "code",
      "execution_count": 1,
      "metadata": {
        "id": "RoBf953LumlX"
      },
      "outputs": [],
      "source": [
        "import numpy as np # linear algebra\n",
        "import pandas as pd # data processing, CSV file I/O (e.g. pd.read_csv)\n"
      ]
    },
    {
      "cell_type": "code",
      "source": [
        "df = pd.read_csv('/content/Churn_Modelling.csv')"
      ],
      "metadata": {
        "id": "XZVhg6csuyfR"
      },
      "execution_count": 2,
      "outputs": []
    },
    {
      "cell_type": "code",
      "source": [
        "df.head()"
      ],
      "metadata": {
        "colab": {
          "base_uri": "https://localhost:8080/",
          "height": 270
        },
        "id": "qDf8IwXcu3WJ",
        "outputId": "877f760a-6afd-4b3b-fb54-6fca2eec4910"
      },
      "execution_count": 3,
      "outputs": [
        {
          "output_type": "execute_result",
          "data": {
            "text/plain": [
              "   RowNumber  CustomerId   Surname  CreditScore Geography  Gender  Age  \\\n",
              "0          1    15634602  Hargrave          619    France  Female   42   \n",
              "1          2    15647311      Hill          608     Spain  Female   41   \n",
              "2          3    15619304      Onio          502    France  Female   42   \n",
              "3          4    15701354      Boni          699    France  Female   39   \n",
              "4          5    15737888  Mitchell          850     Spain  Female   43   \n",
              "\n",
              "   Tenure    Balance  NumOfProducts  HasCrCard  IsActiveMember  \\\n",
              "0       2       0.00              1          1               1   \n",
              "1       1   83807.86              1          0               1   \n",
              "2       8  159660.80              3          1               0   \n",
              "3       1       0.00              2          0               0   \n",
              "4       2  125510.82              1          1               1   \n",
              "\n",
              "   EstimatedSalary  Exited  \n",
              "0        101348.88       1  \n",
              "1        112542.58       0  \n",
              "2        113931.57       1  \n",
              "3         93826.63       0  \n",
              "4         79084.10       0  "
            ],
            "text/html": [
              "\n",
              "  <div id=\"df-48f17ffd-9ab7-4d06-91fd-1bc6127a102c\">\n",
              "    <div class=\"colab-df-container\">\n",
              "      <div>\n",
              "<style scoped>\n",
              "    .dataframe tbody tr th:only-of-type {\n",
              "        vertical-align: middle;\n",
              "    }\n",
              "\n",
              "    .dataframe tbody tr th {\n",
              "        vertical-align: top;\n",
              "    }\n",
              "\n",
              "    .dataframe thead th {\n",
              "        text-align: right;\n",
              "    }\n",
              "</style>\n",
              "<table border=\"1\" class=\"dataframe\">\n",
              "  <thead>\n",
              "    <tr style=\"text-align: right;\">\n",
              "      <th></th>\n",
              "      <th>RowNumber</th>\n",
              "      <th>CustomerId</th>\n",
              "      <th>Surname</th>\n",
              "      <th>CreditScore</th>\n",
              "      <th>Geography</th>\n",
              "      <th>Gender</th>\n",
              "      <th>Age</th>\n",
              "      <th>Tenure</th>\n",
              "      <th>Balance</th>\n",
              "      <th>NumOfProducts</th>\n",
              "      <th>HasCrCard</th>\n",
              "      <th>IsActiveMember</th>\n",
              "      <th>EstimatedSalary</th>\n",
              "      <th>Exited</th>\n",
              "    </tr>\n",
              "  </thead>\n",
              "  <tbody>\n",
              "    <tr>\n",
              "      <th>0</th>\n",
              "      <td>1</td>\n",
              "      <td>15634602</td>\n",
              "      <td>Hargrave</td>\n",
              "      <td>619</td>\n",
              "      <td>France</td>\n",
              "      <td>Female</td>\n",
              "      <td>42</td>\n",
              "      <td>2</td>\n",
              "      <td>0.00</td>\n",
              "      <td>1</td>\n",
              "      <td>1</td>\n",
              "      <td>1</td>\n",
              "      <td>101348.88</td>\n",
              "      <td>1</td>\n",
              "    </tr>\n",
              "    <tr>\n",
              "      <th>1</th>\n",
              "      <td>2</td>\n",
              "      <td>15647311</td>\n",
              "      <td>Hill</td>\n",
              "      <td>608</td>\n",
              "      <td>Spain</td>\n",
              "      <td>Female</td>\n",
              "      <td>41</td>\n",
              "      <td>1</td>\n",
              "      <td>83807.86</td>\n",
              "      <td>1</td>\n",
              "      <td>0</td>\n",
              "      <td>1</td>\n",
              "      <td>112542.58</td>\n",
              "      <td>0</td>\n",
              "    </tr>\n",
              "    <tr>\n",
              "      <th>2</th>\n",
              "      <td>3</td>\n",
              "      <td>15619304</td>\n",
              "      <td>Onio</td>\n",
              "      <td>502</td>\n",
              "      <td>France</td>\n",
              "      <td>Female</td>\n",
              "      <td>42</td>\n",
              "      <td>8</td>\n",
              "      <td>159660.80</td>\n",
              "      <td>3</td>\n",
              "      <td>1</td>\n",
              "      <td>0</td>\n",
              "      <td>113931.57</td>\n",
              "      <td>1</td>\n",
              "    </tr>\n",
              "    <tr>\n",
              "      <th>3</th>\n",
              "      <td>4</td>\n",
              "      <td>15701354</td>\n",
              "      <td>Boni</td>\n",
              "      <td>699</td>\n",
              "      <td>France</td>\n",
              "      <td>Female</td>\n",
              "      <td>39</td>\n",
              "      <td>1</td>\n",
              "      <td>0.00</td>\n",
              "      <td>2</td>\n",
              "      <td>0</td>\n",
              "      <td>0</td>\n",
              "      <td>93826.63</td>\n",
              "      <td>0</td>\n",
              "    </tr>\n",
              "    <tr>\n",
              "      <th>4</th>\n",
              "      <td>5</td>\n",
              "      <td>15737888</td>\n",
              "      <td>Mitchell</td>\n",
              "      <td>850</td>\n",
              "      <td>Spain</td>\n",
              "      <td>Female</td>\n",
              "      <td>43</td>\n",
              "      <td>2</td>\n",
              "      <td>125510.82</td>\n",
              "      <td>1</td>\n",
              "      <td>1</td>\n",
              "      <td>1</td>\n",
              "      <td>79084.10</td>\n",
              "      <td>0</td>\n",
              "    </tr>\n",
              "  </tbody>\n",
              "</table>\n",
              "</div>\n",
              "      <button class=\"colab-df-convert\" onclick=\"convertToInteractive('df-48f17ffd-9ab7-4d06-91fd-1bc6127a102c')\"\n",
              "              title=\"Convert this dataframe to an interactive table.\"\n",
              "              style=\"display:none;\">\n",
              "        \n",
              "  <svg xmlns=\"http://www.w3.org/2000/svg\" height=\"24px\"viewBox=\"0 0 24 24\"\n",
              "       width=\"24px\">\n",
              "    <path d=\"M0 0h24v24H0V0z\" fill=\"none\"/>\n",
              "    <path d=\"M18.56 5.44l.94 2.06.94-2.06 2.06-.94-2.06-.94-.94-2.06-.94 2.06-2.06.94zm-11 1L8.5 8.5l.94-2.06 2.06-.94-2.06-.94L8.5 2.5l-.94 2.06-2.06.94zm10 10l.94 2.06.94-2.06 2.06-.94-2.06-.94-.94-2.06-.94 2.06-2.06.94z\"/><path d=\"M17.41 7.96l-1.37-1.37c-.4-.4-.92-.59-1.43-.59-.52 0-1.04.2-1.43.59L10.3 9.45l-7.72 7.72c-.78.78-.78 2.05 0 2.83L4 21.41c.39.39.9.59 1.41.59.51 0 1.02-.2 1.41-.59l7.78-7.78 2.81-2.81c.8-.78.8-2.07 0-2.86zM5.41 20L4 18.59l7.72-7.72 1.47 1.35L5.41 20z\"/>\n",
              "  </svg>\n",
              "      </button>\n",
              "      \n",
              "  <style>\n",
              "    .colab-df-container {\n",
              "      display:flex;\n",
              "      flex-wrap:wrap;\n",
              "      gap: 12px;\n",
              "    }\n",
              "\n",
              "    .colab-df-convert {\n",
              "      background-color: #E8F0FE;\n",
              "      border: none;\n",
              "      border-radius: 50%;\n",
              "      cursor: pointer;\n",
              "      display: none;\n",
              "      fill: #1967D2;\n",
              "      height: 32px;\n",
              "      padding: 0 0 0 0;\n",
              "      width: 32px;\n",
              "    }\n",
              "\n",
              "    .colab-df-convert:hover {\n",
              "      background-color: #E2EBFA;\n",
              "      box-shadow: 0px 1px 2px rgba(60, 64, 67, 0.3), 0px 1px 3px 1px rgba(60, 64, 67, 0.15);\n",
              "      fill: #174EA6;\n",
              "    }\n",
              "\n",
              "    [theme=dark] .colab-df-convert {\n",
              "      background-color: #3B4455;\n",
              "      fill: #D2E3FC;\n",
              "    }\n",
              "\n",
              "    [theme=dark] .colab-df-convert:hover {\n",
              "      background-color: #434B5C;\n",
              "      box-shadow: 0px 1px 3px 1px rgba(0, 0, 0, 0.15);\n",
              "      filter: drop-shadow(0px 1px 2px rgba(0, 0, 0, 0.3));\n",
              "      fill: #FFFFFF;\n",
              "    }\n",
              "  </style>\n",
              "\n",
              "      <script>\n",
              "        const buttonEl =\n",
              "          document.querySelector('#df-48f17ffd-9ab7-4d06-91fd-1bc6127a102c button.colab-df-convert');\n",
              "        buttonEl.style.display =\n",
              "          google.colab.kernel.accessAllowed ? 'block' : 'none';\n",
              "\n",
              "        async function convertToInteractive(key) {\n",
              "          const element = document.querySelector('#df-48f17ffd-9ab7-4d06-91fd-1bc6127a102c');\n",
              "          const dataTable =\n",
              "            await google.colab.kernel.invokeFunction('convertToInteractive',\n",
              "                                                     [key], {});\n",
              "          if (!dataTable) return;\n",
              "\n",
              "          const docLinkHtml = 'Like what you see? Visit the ' +\n",
              "            '<a target=\"_blank\" href=https://colab.research.google.com/notebooks/data_table.ipynb>data table notebook</a>'\n",
              "            + ' to learn more about interactive tables.';\n",
              "          element.innerHTML = '';\n",
              "          dataTable['output_type'] = 'display_data';\n",
              "          await google.colab.output.renderOutput(dataTable, element);\n",
              "          const docLink = document.createElement('div');\n",
              "          docLink.innerHTML = docLinkHtml;\n",
              "          element.appendChild(docLink);\n",
              "        }\n",
              "      </script>\n",
              "    </div>\n",
              "  </div>\n",
              "  "
            ]
          },
          "metadata": {},
          "execution_count": 3
        }
      ]
    },
    {
      "cell_type": "markdown",
      "source": [
        "1= Exited, )= Not Exited"
      ],
      "metadata": {
        "id": "PjpUB4ErwHMF"
      }
    },
    {
      "cell_type": "code",
      "source": [
        "df.drop(columns = ['RowNumber','CustomerId','Surname'],inplace=True)"
      ],
      "metadata": {
        "id": "6IQF43R3u7no"
      },
      "execution_count": 4,
      "outputs": []
    },
    {
      "cell_type": "code",
      "source": [
        "df.head()"
      ],
      "metadata": {
        "colab": {
          "base_uri": "https://localhost:8080/",
          "height": 270
        },
        "id": "qIQXktUcu9vr",
        "outputId": "23bfab36-4768-4dc6-b6fc-78bf373354ea"
      },
      "execution_count": 5,
      "outputs": [
        {
          "output_type": "execute_result",
          "data": {
            "text/plain": [
              "   CreditScore Geography  Gender  Age  Tenure    Balance  NumOfProducts  \\\n",
              "0          619    France  Female   42       2       0.00              1   \n",
              "1          608     Spain  Female   41       1   83807.86              1   \n",
              "2          502    France  Female   42       8  159660.80              3   \n",
              "3          699    France  Female   39       1       0.00              2   \n",
              "4          850     Spain  Female   43       2  125510.82              1   \n",
              "\n",
              "   HasCrCard  IsActiveMember  EstimatedSalary  Exited  \n",
              "0          1               1        101348.88       1  \n",
              "1          0               1        112542.58       0  \n",
              "2          1               0        113931.57       1  \n",
              "3          0               0         93826.63       0  \n",
              "4          1               1         79084.10       0  "
            ],
            "text/html": [
              "\n",
              "  <div id=\"df-b14f0d83-b305-45e1-9a22-10dd0fde5e8c\">\n",
              "    <div class=\"colab-df-container\">\n",
              "      <div>\n",
              "<style scoped>\n",
              "    .dataframe tbody tr th:only-of-type {\n",
              "        vertical-align: middle;\n",
              "    }\n",
              "\n",
              "    .dataframe tbody tr th {\n",
              "        vertical-align: top;\n",
              "    }\n",
              "\n",
              "    .dataframe thead th {\n",
              "        text-align: right;\n",
              "    }\n",
              "</style>\n",
              "<table border=\"1\" class=\"dataframe\">\n",
              "  <thead>\n",
              "    <tr style=\"text-align: right;\">\n",
              "      <th></th>\n",
              "      <th>CreditScore</th>\n",
              "      <th>Geography</th>\n",
              "      <th>Gender</th>\n",
              "      <th>Age</th>\n",
              "      <th>Tenure</th>\n",
              "      <th>Balance</th>\n",
              "      <th>NumOfProducts</th>\n",
              "      <th>HasCrCard</th>\n",
              "      <th>IsActiveMember</th>\n",
              "      <th>EstimatedSalary</th>\n",
              "      <th>Exited</th>\n",
              "    </tr>\n",
              "  </thead>\n",
              "  <tbody>\n",
              "    <tr>\n",
              "      <th>0</th>\n",
              "      <td>619</td>\n",
              "      <td>France</td>\n",
              "      <td>Female</td>\n",
              "      <td>42</td>\n",
              "      <td>2</td>\n",
              "      <td>0.00</td>\n",
              "      <td>1</td>\n",
              "      <td>1</td>\n",
              "      <td>1</td>\n",
              "      <td>101348.88</td>\n",
              "      <td>1</td>\n",
              "    </tr>\n",
              "    <tr>\n",
              "      <th>1</th>\n",
              "      <td>608</td>\n",
              "      <td>Spain</td>\n",
              "      <td>Female</td>\n",
              "      <td>41</td>\n",
              "      <td>1</td>\n",
              "      <td>83807.86</td>\n",
              "      <td>1</td>\n",
              "      <td>0</td>\n",
              "      <td>1</td>\n",
              "      <td>112542.58</td>\n",
              "      <td>0</td>\n",
              "    </tr>\n",
              "    <tr>\n",
              "      <th>2</th>\n",
              "      <td>502</td>\n",
              "      <td>France</td>\n",
              "      <td>Female</td>\n",
              "      <td>42</td>\n",
              "      <td>8</td>\n",
              "      <td>159660.80</td>\n",
              "      <td>3</td>\n",
              "      <td>1</td>\n",
              "      <td>0</td>\n",
              "      <td>113931.57</td>\n",
              "      <td>1</td>\n",
              "    </tr>\n",
              "    <tr>\n",
              "      <th>3</th>\n",
              "      <td>699</td>\n",
              "      <td>France</td>\n",
              "      <td>Female</td>\n",
              "      <td>39</td>\n",
              "      <td>1</td>\n",
              "      <td>0.00</td>\n",
              "      <td>2</td>\n",
              "      <td>0</td>\n",
              "      <td>0</td>\n",
              "      <td>93826.63</td>\n",
              "      <td>0</td>\n",
              "    </tr>\n",
              "    <tr>\n",
              "      <th>4</th>\n",
              "      <td>850</td>\n",
              "      <td>Spain</td>\n",
              "      <td>Female</td>\n",
              "      <td>43</td>\n",
              "      <td>2</td>\n",
              "      <td>125510.82</td>\n",
              "      <td>1</td>\n",
              "      <td>1</td>\n",
              "      <td>1</td>\n",
              "      <td>79084.10</td>\n",
              "      <td>0</td>\n",
              "    </tr>\n",
              "  </tbody>\n",
              "</table>\n",
              "</div>\n",
              "      <button class=\"colab-df-convert\" onclick=\"convertToInteractive('df-b14f0d83-b305-45e1-9a22-10dd0fde5e8c')\"\n",
              "              title=\"Convert this dataframe to an interactive table.\"\n",
              "              style=\"display:none;\">\n",
              "        \n",
              "  <svg xmlns=\"http://www.w3.org/2000/svg\" height=\"24px\"viewBox=\"0 0 24 24\"\n",
              "       width=\"24px\">\n",
              "    <path d=\"M0 0h24v24H0V0z\" fill=\"none\"/>\n",
              "    <path d=\"M18.56 5.44l.94 2.06.94-2.06 2.06-.94-2.06-.94-.94-2.06-.94 2.06-2.06.94zm-11 1L8.5 8.5l.94-2.06 2.06-.94-2.06-.94L8.5 2.5l-.94 2.06-2.06.94zm10 10l.94 2.06.94-2.06 2.06-.94-2.06-.94-.94-2.06-.94 2.06-2.06.94z\"/><path d=\"M17.41 7.96l-1.37-1.37c-.4-.4-.92-.59-1.43-.59-.52 0-1.04.2-1.43.59L10.3 9.45l-7.72 7.72c-.78.78-.78 2.05 0 2.83L4 21.41c.39.39.9.59 1.41.59.51 0 1.02-.2 1.41-.59l7.78-7.78 2.81-2.81c.8-.78.8-2.07 0-2.86zM5.41 20L4 18.59l7.72-7.72 1.47 1.35L5.41 20z\"/>\n",
              "  </svg>\n",
              "      </button>\n",
              "      \n",
              "  <style>\n",
              "    .colab-df-container {\n",
              "      display:flex;\n",
              "      flex-wrap:wrap;\n",
              "      gap: 12px;\n",
              "    }\n",
              "\n",
              "    .colab-df-convert {\n",
              "      background-color: #E8F0FE;\n",
              "      border: none;\n",
              "      border-radius: 50%;\n",
              "      cursor: pointer;\n",
              "      display: none;\n",
              "      fill: #1967D2;\n",
              "      height: 32px;\n",
              "      padding: 0 0 0 0;\n",
              "      width: 32px;\n",
              "    }\n",
              "\n",
              "    .colab-df-convert:hover {\n",
              "      background-color: #E2EBFA;\n",
              "      box-shadow: 0px 1px 2px rgba(60, 64, 67, 0.3), 0px 1px 3px 1px rgba(60, 64, 67, 0.15);\n",
              "      fill: #174EA6;\n",
              "    }\n",
              "\n",
              "    [theme=dark] .colab-df-convert {\n",
              "      background-color: #3B4455;\n",
              "      fill: #D2E3FC;\n",
              "    }\n",
              "\n",
              "    [theme=dark] .colab-df-convert:hover {\n",
              "      background-color: #434B5C;\n",
              "      box-shadow: 0px 1px 3px 1px rgba(0, 0, 0, 0.15);\n",
              "      filter: drop-shadow(0px 1px 2px rgba(0, 0, 0, 0.3));\n",
              "      fill: #FFFFFF;\n",
              "    }\n",
              "  </style>\n",
              "\n",
              "      <script>\n",
              "        const buttonEl =\n",
              "          document.querySelector('#df-b14f0d83-b305-45e1-9a22-10dd0fde5e8c button.colab-df-convert');\n",
              "        buttonEl.style.display =\n",
              "          google.colab.kernel.accessAllowed ? 'block' : 'none';\n",
              "\n",
              "        async function convertToInteractive(key) {\n",
              "          const element = document.querySelector('#df-b14f0d83-b305-45e1-9a22-10dd0fde5e8c');\n",
              "          const dataTable =\n",
              "            await google.colab.kernel.invokeFunction('convertToInteractive',\n",
              "                                                     [key], {});\n",
              "          if (!dataTable) return;\n",
              "\n",
              "          const docLinkHtml = 'Like what you see? Visit the ' +\n",
              "            '<a target=\"_blank\" href=https://colab.research.google.com/notebooks/data_table.ipynb>data table notebook</a>'\n",
              "            + ' to learn more about interactive tables.';\n",
              "          element.innerHTML = '';\n",
              "          dataTable['output_type'] = 'display_data';\n",
              "          await google.colab.output.renderOutput(dataTable, element);\n",
              "          const docLink = document.createElement('div');\n",
              "          docLink.innerHTML = docLinkHtml;\n",
              "          element.appendChild(docLink);\n",
              "        }\n",
              "      </script>\n",
              "    </div>\n",
              "  </div>\n",
              "  "
            ]
          },
          "metadata": {},
          "execution_count": 5
        }
      ]
    },
    {
      "cell_type": "code",
      "source": [
        "df['Geography'].value_counts()"
      ],
      "metadata": {
        "colab": {
          "base_uri": "https://localhost:8080/"
        },
        "id": "4u8Cx4a9vAAV",
        "outputId": "88ba4623-582d-479e-d965-7a121618ff36"
      },
      "execution_count": 6,
      "outputs": [
        {
          "output_type": "execute_result",
          "data": {
            "text/plain": [
              "France     5014\n",
              "Germany    2509\n",
              "Spain      2477\n",
              "Name: Geography, dtype: int64"
            ]
          },
          "metadata": {},
          "execution_count": 6
        }
      ]
    },
    {
      "cell_type": "code",
      "source": [
        "df['Gender'].value_counts()"
      ],
      "metadata": {
        "colab": {
          "base_uri": "https://localhost:8080/"
        },
        "id": "stmmwWIjvCod",
        "outputId": "b7f6fdce-f06b-4793-f8a9-1f0f0332e8ba"
      },
      "execution_count": 7,
      "outputs": [
        {
          "output_type": "execute_result",
          "data": {
            "text/plain": [
              "Male      5457\n",
              "Female    4543\n",
              "Name: Gender, dtype: int64"
            ]
          },
          "metadata": {},
          "execution_count": 7
        }
      ]
    },
    {
      "cell_type": "code",
      "source": [
        "df = pd.get_dummies(df,columns=['Geography','Gender'],drop_first=True)"
      ],
      "metadata": {
        "id": "BwEVBJ-hvE9B"
      },
      "execution_count": 8,
      "outputs": []
    },
    {
      "cell_type": "code",
      "source": [
        "df.head()"
      ],
      "metadata": {
        "colab": {
          "base_uri": "https://localhost:8080/",
          "height": 270
        },
        "id": "razlUxP6vG_d",
        "outputId": "59f0b5c2-3b25-4d0b-c285-29ebb5f3e4e6"
      },
      "execution_count": 9,
      "outputs": [
        {
          "output_type": "execute_result",
          "data": {
            "text/plain": [
              "   CreditScore  Age  Tenure    Balance  NumOfProducts  HasCrCard  \\\n",
              "0          619   42       2       0.00              1          1   \n",
              "1          608   41       1   83807.86              1          0   \n",
              "2          502   42       8  159660.80              3          1   \n",
              "3          699   39       1       0.00              2          0   \n",
              "4          850   43       2  125510.82              1          1   \n",
              "\n",
              "   IsActiveMember  EstimatedSalary  Exited  Geography_Germany  \\\n",
              "0               1        101348.88       1                  0   \n",
              "1               1        112542.58       0                  0   \n",
              "2               0        113931.57       1                  0   \n",
              "3               0         93826.63       0                  0   \n",
              "4               1         79084.10       0                  0   \n",
              "\n",
              "   Geography_Spain  Gender_Male  \n",
              "0                0            0  \n",
              "1                1            0  \n",
              "2                0            0  \n",
              "3                0            0  \n",
              "4                1            0  "
            ],
            "text/html": [
              "\n",
              "  <div id=\"df-5667552e-5df3-4f1f-b2d7-85d871410d74\">\n",
              "    <div class=\"colab-df-container\">\n",
              "      <div>\n",
              "<style scoped>\n",
              "    .dataframe tbody tr th:only-of-type {\n",
              "        vertical-align: middle;\n",
              "    }\n",
              "\n",
              "    .dataframe tbody tr th {\n",
              "        vertical-align: top;\n",
              "    }\n",
              "\n",
              "    .dataframe thead th {\n",
              "        text-align: right;\n",
              "    }\n",
              "</style>\n",
              "<table border=\"1\" class=\"dataframe\">\n",
              "  <thead>\n",
              "    <tr style=\"text-align: right;\">\n",
              "      <th></th>\n",
              "      <th>CreditScore</th>\n",
              "      <th>Age</th>\n",
              "      <th>Tenure</th>\n",
              "      <th>Balance</th>\n",
              "      <th>NumOfProducts</th>\n",
              "      <th>HasCrCard</th>\n",
              "      <th>IsActiveMember</th>\n",
              "      <th>EstimatedSalary</th>\n",
              "      <th>Exited</th>\n",
              "      <th>Geography_Germany</th>\n",
              "      <th>Geography_Spain</th>\n",
              "      <th>Gender_Male</th>\n",
              "    </tr>\n",
              "  </thead>\n",
              "  <tbody>\n",
              "    <tr>\n",
              "      <th>0</th>\n",
              "      <td>619</td>\n",
              "      <td>42</td>\n",
              "      <td>2</td>\n",
              "      <td>0.00</td>\n",
              "      <td>1</td>\n",
              "      <td>1</td>\n",
              "      <td>1</td>\n",
              "      <td>101348.88</td>\n",
              "      <td>1</td>\n",
              "      <td>0</td>\n",
              "      <td>0</td>\n",
              "      <td>0</td>\n",
              "    </tr>\n",
              "    <tr>\n",
              "      <th>1</th>\n",
              "      <td>608</td>\n",
              "      <td>41</td>\n",
              "      <td>1</td>\n",
              "      <td>83807.86</td>\n",
              "      <td>1</td>\n",
              "      <td>0</td>\n",
              "      <td>1</td>\n",
              "      <td>112542.58</td>\n",
              "      <td>0</td>\n",
              "      <td>0</td>\n",
              "      <td>1</td>\n",
              "      <td>0</td>\n",
              "    </tr>\n",
              "    <tr>\n",
              "      <th>2</th>\n",
              "      <td>502</td>\n",
              "      <td>42</td>\n",
              "      <td>8</td>\n",
              "      <td>159660.80</td>\n",
              "      <td>3</td>\n",
              "      <td>1</td>\n",
              "      <td>0</td>\n",
              "      <td>113931.57</td>\n",
              "      <td>1</td>\n",
              "      <td>0</td>\n",
              "      <td>0</td>\n",
              "      <td>0</td>\n",
              "    </tr>\n",
              "    <tr>\n",
              "      <th>3</th>\n",
              "      <td>699</td>\n",
              "      <td>39</td>\n",
              "      <td>1</td>\n",
              "      <td>0.00</td>\n",
              "      <td>2</td>\n",
              "      <td>0</td>\n",
              "      <td>0</td>\n",
              "      <td>93826.63</td>\n",
              "      <td>0</td>\n",
              "      <td>0</td>\n",
              "      <td>0</td>\n",
              "      <td>0</td>\n",
              "    </tr>\n",
              "    <tr>\n",
              "      <th>4</th>\n",
              "      <td>850</td>\n",
              "      <td>43</td>\n",
              "      <td>2</td>\n",
              "      <td>125510.82</td>\n",
              "      <td>1</td>\n",
              "      <td>1</td>\n",
              "      <td>1</td>\n",
              "      <td>79084.10</td>\n",
              "      <td>0</td>\n",
              "      <td>0</td>\n",
              "      <td>1</td>\n",
              "      <td>0</td>\n",
              "    </tr>\n",
              "  </tbody>\n",
              "</table>\n",
              "</div>\n",
              "      <button class=\"colab-df-convert\" onclick=\"convertToInteractive('df-5667552e-5df3-4f1f-b2d7-85d871410d74')\"\n",
              "              title=\"Convert this dataframe to an interactive table.\"\n",
              "              style=\"display:none;\">\n",
              "        \n",
              "  <svg xmlns=\"http://www.w3.org/2000/svg\" height=\"24px\"viewBox=\"0 0 24 24\"\n",
              "       width=\"24px\">\n",
              "    <path d=\"M0 0h24v24H0V0z\" fill=\"none\"/>\n",
              "    <path d=\"M18.56 5.44l.94 2.06.94-2.06 2.06-.94-2.06-.94-.94-2.06-.94 2.06-2.06.94zm-11 1L8.5 8.5l.94-2.06 2.06-.94-2.06-.94L8.5 2.5l-.94 2.06-2.06.94zm10 10l.94 2.06.94-2.06 2.06-.94-2.06-.94-.94-2.06-.94 2.06-2.06.94z\"/><path d=\"M17.41 7.96l-1.37-1.37c-.4-.4-.92-.59-1.43-.59-.52 0-1.04.2-1.43.59L10.3 9.45l-7.72 7.72c-.78.78-.78 2.05 0 2.83L4 21.41c.39.39.9.59 1.41.59.51 0 1.02-.2 1.41-.59l7.78-7.78 2.81-2.81c.8-.78.8-2.07 0-2.86zM5.41 20L4 18.59l7.72-7.72 1.47 1.35L5.41 20z\"/>\n",
              "  </svg>\n",
              "      </button>\n",
              "      \n",
              "  <style>\n",
              "    .colab-df-container {\n",
              "      display:flex;\n",
              "      flex-wrap:wrap;\n",
              "      gap: 12px;\n",
              "    }\n",
              "\n",
              "    .colab-df-convert {\n",
              "      background-color: #E8F0FE;\n",
              "      border: none;\n",
              "      border-radius: 50%;\n",
              "      cursor: pointer;\n",
              "      display: none;\n",
              "      fill: #1967D2;\n",
              "      height: 32px;\n",
              "      padding: 0 0 0 0;\n",
              "      width: 32px;\n",
              "    }\n",
              "\n",
              "    .colab-df-convert:hover {\n",
              "      background-color: #E2EBFA;\n",
              "      box-shadow: 0px 1px 2px rgba(60, 64, 67, 0.3), 0px 1px 3px 1px rgba(60, 64, 67, 0.15);\n",
              "      fill: #174EA6;\n",
              "    }\n",
              "\n",
              "    [theme=dark] .colab-df-convert {\n",
              "      background-color: #3B4455;\n",
              "      fill: #D2E3FC;\n",
              "    }\n",
              "\n",
              "    [theme=dark] .colab-df-convert:hover {\n",
              "      background-color: #434B5C;\n",
              "      box-shadow: 0px 1px 3px 1px rgba(0, 0, 0, 0.15);\n",
              "      filter: drop-shadow(0px 1px 2px rgba(0, 0, 0, 0.3));\n",
              "      fill: #FFFFFF;\n",
              "    }\n",
              "  </style>\n",
              "\n",
              "      <script>\n",
              "        const buttonEl =\n",
              "          document.querySelector('#df-5667552e-5df3-4f1f-b2d7-85d871410d74 button.colab-df-convert');\n",
              "        buttonEl.style.display =\n",
              "          google.colab.kernel.accessAllowed ? 'block' : 'none';\n",
              "\n",
              "        async function convertToInteractive(key) {\n",
              "          const element = document.querySelector('#df-5667552e-5df3-4f1f-b2d7-85d871410d74');\n",
              "          const dataTable =\n",
              "            await google.colab.kernel.invokeFunction('convertToInteractive',\n",
              "                                                     [key], {});\n",
              "          if (!dataTable) return;\n",
              "\n",
              "          const docLinkHtml = 'Like what you see? Visit the ' +\n",
              "            '<a target=\"_blank\" href=https://colab.research.google.com/notebooks/data_table.ipynb>data table notebook</a>'\n",
              "            + ' to learn more about interactive tables.';\n",
              "          element.innerHTML = '';\n",
              "          dataTable['output_type'] = 'display_data';\n",
              "          await google.colab.output.renderOutput(dataTable, element);\n",
              "          const docLink = document.createElement('div');\n",
              "          docLink.innerHTML = docLinkHtml;\n",
              "          element.appendChild(docLink);\n",
              "        }\n",
              "      </script>\n",
              "    </div>\n",
              "  </div>\n",
              "  "
            ]
          },
          "metadata": {},
          "execution_count": 9
        }
      ]
    },
    {
      "cell_type": "code",
      "source": [
        "X = df.drop(columns=['Exited'])\n",
        "y = df['Exited'].values\n",
        "\n",
        "from sklearn.model_selection import train_test_split\n",
        "X_train,X_test,y_train,y_test = train_test_split(X,y,test_size=0.2,random_state=0)"
      ],
      "metadata": {
        "id": "C-0XbJbAvJvO"
      },
      "execution_count": 10,
      "outputs": []
    },
    {
      "cell_type": "code",
      "source": [
        "from sklearn.preprocessing import StandardScaler\n",
        "scaler = StandardScaler()\n",
        "\n",
        "X_train_trf = scaler.fit_transform(X_train)\n",
        "X_test_trf = scaler.transform(X_test)"
      ],
      "metadata": {
        "id": "neYzE72zvK12"
      },
      "execution_count": 11,
      "outputs": []
    },
    {
      "cell_type": "code",
      "source": [
        "import tensorflow\n",
        "from tensorflow import keras\n",
        "from tensorflow.keras import Sequential \n",
        "from tensorflow.keras.layers import Dense"
      ],
      "metadata": {
        "id": "EsJvWs88vNm_"
      },
      "execution_count": 12,
      "outputs": []
    },
    {
      "cell_type": "code",
      "source": [
        "model = Sequential()\n",
        "\n",
        "model.add(Dense(11,activation='sigmoid',input_dim=11))\n",
        "model.add(Dense(11,activation='sigmoid'))\n",
        "model.add(Dense(1,activation='sigmoid'))"
      ],
      "metadata": {
        "id": "QXOsWzC4vSjw"
      },
      "execution_count": 13,
      "outputs": []
    },
    {
      "cell_type": "code",
      "source": [
        "model.summary()"
      ],
      "metadata": {
        "colab": {
          "base_uri": "https://localhost:8080/"
        },
        "id": "3GXB9C0_vVSx",
        "outputId": "3e266d62-f2f9-4793-f69e-379e183dad34"
      },
      "execution_count": 14,
      "outputs": [
        {
          "output_type": "stream",
          "name": "stdout",
          "text": [
            "Model: \"sequential\"\n",
            "_________________________________________________________________\n",
            " Layer (type)                Output Shape              Param #   \n",
            "=================================================================\n",
            " dense (Dense)               (None, 11)                132       \n",
            "                                                                 \n",
            " dense_1 (Dense)             (None, 11)                132       \n",
            "                                                                 \n",
            " dense_2 (Dense)             (None, 1)                 12        \n",
            "                                                                 \n",
            "=================================================================\n",
            "Total params: 276\n",
            "Trainable params: 276\n",
            "Non-trainable params: 0\n",
            "_________________________________________________________________\n"
          ]
        }
      ]
    },
    {
      "cell_type": "code",
      "source": [
        "model.compile(optimizer='Adam',loss='binary_crossentropy',metrics=['accuracy'])"
      ],
      "metadata": {
        "id": "q8yom1CKvXof"
      },
      "execution_count": 15,
      "outputs": []
    },
    {
      "cell_type": "code",
      "source": [
        "history = model.fit(X_train,y_train,batch_size=50,epochs=100,verbose=1,validation_split=0.2)"
      ],
      "metadata": {
        "colab": {
          "base_uri": "https://localhost:8080/"
        },
        "id": "7EI1mC_svZc3",
        "outputId": "e5aaa01c-6d7a-466a-febb-968c242f4447"
      },
      "execution_count": 16,
      "outputs": [
        {
          "output_type": "stream",
          "name": "stdout",
          "text": [
            "Epoch 1/100\n",
            "128/128 [==============================] - 2s 6ms/step - loss: 0.5064 - accuracy: 0.7958 - val_loss: 0.5021 - val_accuracy: 0.7969\n",
            "Epoch 2/100\n",
            "128/128 [==============================] - 0s 3ms/step - loss: 0.5032 - accuracy: 0.7958 - val_loss: 0.4995 - val_accuracy: 0.7969\n",
            "Epoch 3/100\n",
            "128/128 [==============================] - 0s 3ms/step - loss: 0.5015 - accuracy: 0.7958 - val_loss: 0.4983 - val_accuracy: 0.7969\n",
            "Epoch 4/100\n",
            "128/128 [==============================] - 0s 3ms/step - loss: 0.5009 - accuracy: 0.7958 - val_loss: 0.4970 - val_accuracy: 0.7969\n",
            "Epoch 5/100\n",
            "128/128 [==============================] - 0s 3ms/step - loss: 0.5008 - accuracy: 0.7958 - val_loss: 0.4967 - val_accuracy: 0.7969\n",
            "Epoch 6/100\n",
            "128/128 [==============================] - 0s 3ms/step - loss: 0.5005 - accuracy: 0.7958 - val_loss: 0.4963 - val_accuracy: 0.7969\n",
            "Epoch 7/100\n",
            "128/128 [==============================] - 0s 3ms/step - loss: 0.5003 - accuracy: 0.7958 - val_loss: 0.4960 - val_accuracy: 0.7969\n",
            "Epoch 8/100\n",
            "128/128 [==============================] - 1s 6ms/step - loss: 0.4999 - accuracy: 0.7958 - val_loss: 0.4959 - val_accuracy: 0.7969\n",
            "Epoch 9/100\n",
            "128/128 [==============================] - 1s 7ms/step - loss: 0.5000 - accuracy: 0.7958 - val_loss: 0.4957 - val_accuracy: 0.7969\n",
            "Epoch 10/100\n",
            "128/128 [==============================] - 1s 8ms/step - loss: 0.4997 - accuracy: 0.7958 - val_loss: 0.4958 - val_accuracy: 0.7969\n",
            "Epoch 11/100\n",
            "128/128 [==============================] - 1s 9ms/step - loss: 0.4998 - accuracy: 0.7958 - val_loss: 0.4956 - val_accuracy: 0.7969\n",
            "Epoch 12/100\n",
            "128/128 [==============================] - 1s 9ms/step - loss: 0.4998 - accuracy: 0.7958 - val_loss: 0.4954 - val_accuracy: 0.7969\n",
            "Epoch 13/100\n",
            "128/128 [==============================] - 1s 9ms/step - loss: 0.4996 - accuracy: 0.7958 - val_loss: 0.4954 - val_accuracy: 0.7969\n",
            "Epoch 14/100\n",
            "128/128 [==============================] - 1s 10ms/step - loss: 0.4997 - accuracy: 0.7958 - val_loss: 0.4954 - val_accuracy: 0.7969\n",
            "Epoch 15/100\n",
            "128/128 [==============================] - 1s 9ms/step - loss: 0.4995 - accuracy: 0.7958 - val_loss: 0.4955 - val_accuracy: 0.7969\n",
            "Epoch 16/100\n",
            "128/128 [==============================] - 1s 8ms/step - loss: 0.4996 - accuracy: 0.7958 - val_loss: 0.4954 - val_accuracy: 0.7969\n",
            "Epoch 17/100\n",
            "128/128 [==============================] - 1s 6ms/step - loss: 0.4996 - accuracy: 0.7958 - val_loss: 0.4955 - val_accuracy: 0.7969\n",
            "Epoch 18/100\n",
            "128/128 [==============================] - 1s 9ms/step - loss: 0.4994 - accuracy: 0.7958 - val_loss: 0.4953 - val_accuracy: 0.7969\n",
            "Epoch 19/100\n",
            "128/128 [==============================] - 1s 8ms/step - loss: 0.4993 - accuracy: 0.7958 - val_loss: 0.4953 - val_accuracy: 0.7969\n",
            "Epoch 20/100\n",
            "128/128 [==============================] - 1s 8ms/step - loss: 0.4994 - accuracy: 0.7958 - val_loss: 0.4951 - val_accuracy: 0.7969\n",
            "Epoch 21/100\n",
            "128/128 [==============================] - 1s 9ms/step - loss: 0.4993 - accuracy: 0.7958 - val_loss: 0.4954 - val_accuracy: 0.7969\n",
            "Epoch 22/100\n",
            "128/128 [==============================] - 1s 7ms/step - loss: 0.4994 - accuracy: 0.7958 - val_loss: 0.4954 - val_accuracy: 0.7969\n",
            "Epoch 23/100\n",
            "128/128 [==============================] - 1s 8ms/step - loss: 0.4991 - accuracy: 0.7958 - val_loss: 0.4954 - val_accuracy: 0.7969\n",
            "Epoch 24/100\n",
            "128/128 [==============================] - 1s 7ms/step - loss: 0.4991 - accuracy: 0.7958 - val_loss: 0.4954 - val_accuracy: 0.7969\n",
            "Epoch 25/100\n",
            "128/128 [==============================] - 1s 10ms/step - loss: 0.4991 - accuracy: 0.7958 - val_loss: 0.4955 - val_accuracy: 0.7969\n",
            "Epoch 26/100\n",
            "128/128 [==============================] - 1s 9ms/step - loss: 0.4989 - accuracy: 0.7958 - val_loss: 0.4959 - val_accuracy: 0.7969\n",
            "Epoch 27/100\n",
            "128/128 [==============================] - 1s 9ms/step - loss: 0.4992 - accuracy: 0.7958 - val_loss: 0.4953 - val_accuracy: 0.7969\n",
            "Epoch 28/100\n",
            "128/128 [==============================] - 1s 6ms/step - loss: 0.4991 - accuracy: 0.7958 - val_loss: 0.4955 - val_accuracy: 0.7969\n",
            "Epoch 29/100\n",
            "128/128 [==============================] - 1s 7ms/step - loss: 0.4992 - accuracy: 0.7958 - val_loss: 0.4955 - val_accuracy: 0.7969\n",
            "Epoch 30/100\n",
            "128/128 [==============================] - 1s 8ms/step - loss: 0.4992 - accuracy: 0.7958 - val_loss: 0.4953 - val_accuracy: 0.7969\n",
            "Epoch 31/100\n",
            "128/128 [==============================] - 1s 9ms/step - loss: 0.4991 - accuracy: 0.7958 - val_loss: 0.4953 - val_accuracy: 0.7969\n",
            "Epoch 32/100\n",
            "128/128 [==============================] - 0s 3ms/step - loss: 0.4990 - accuracy: 0.7958 - val_loss: 0.4953 - val_accuracy: 0.7969\n",
            "Epoch 33/100\n",
            "128/128 [==============================] - 0s 4ms/step - loss: 0.4991 - accuracy: 0.7958 - val_loss: 0.4956 - val_accuracy: 0.7969\n",
            "Epoch 34/100\n",
            "128/128 [==============================] - 0s 3ms/step - loss: 0.4990 - accuracy: 0.7958 - val_loss: 0.4954 - val_accuracy: 0.7969\n",
            "Epoch 35/100\n",
            "128/128 [==============================] - 0s 3ms/step - loss: 0.4989 - accuracy: 0.7958 - val_loss: 0.4957 - val_accuracy: 0.7969\n",
            "Epoch 36/100\n",
            "128/128 [==============================] - 1s 7ms/step - loss: 0.4992 - accuracy: 0.7958 - val_loss: 0.4952 - val_accuracy: 0.7969\n",
            "Epoch 37/100\n",
            "128/128 [==============================] - 1s 6ms/step - loss: 0.4991 - accuracy: 0.7958 - val_loss: 0.4955 - val_accuracy: 0.7969\n",
            "Epoch 38/100\n",
            "128/128 [==============================] - 1s 5ms/step - loss: 0.4990 - accuracy: 0.7958 - val_loss: 0.4952 - val_accuracy: 0.7969\n",
            "Epoch 39/100\n",
            "128/128 [==============================] - 1s 9ms/step - loss: 0.4990 - accuracy: 0.7958 - val_loss: 0.4953 - val_accuracy: 0.7969\n",
            "Epoch 40/100\n",
            "128/128 [==============================] - 1s 4ms/step - loss: 0.4990 - accuracy: 0.7958 - val_loss: 0.4954 - val_accuracy: 0.7969\n",
            "Epoch 41/100\n",
            "128/128 [==============================] - 1s 6ms/step - loss: 0.4992 - accuracy: 0.7958 - val_loss: 0.4954 - val_accuracy: 0.7969\n",
            "Epoch 42/100\n",
            "128/128 [==============================] - 1s 6ms/step - loss: 0.4991 - accuracy: 0.7958 - val_loss: 0.4953 - val_accuracy: 0.7969\n",
            "Epoch 43/100\n",
            "128/128 [==============================] - 1s 5ms/step - loss: 0.4991 - accuracy: 0.7958 - val_loss: 0.4954 - val_accuracy: 0.7969\n",
            "Epoch 44/100\n",
            "128/128 [==============================] - 1s 6ms/step - loss: 0.4992 - accuracy: 0.7958 - val_loss: 0.4956 - val_accuracy: 0.7969\n",
            "Epoch 45/100\n",
            "128/128 [==============================] - 1s 5ms/step - loss: 0.4992 - accuracy: 0.7958 - val_loss: 0.4954 - val_accuracy: 0.7969\n",
            "Epoch 46/100\n",
            "128/128 [==============================] - 1s 5ms/step - loss: 0.4992 - accuracy: 0.7958 - val_loss: 0.4953 - val_accuracy: 0.7969\n",
            "Epoch 47/100\n",
            "128/128 [==============================] - 1s 5ms/step - loss: 0.4993 - accuracy: 0.7958 - val_loss: 0.4953 - val_accuracy: 0.7969\n",
            "Epoch 48/100\n",
            "128/128 [==============================] - 1s 5ms/step - loss: 0.4993 - accuracy: 0.7958 - val_loss: 0.4953 - val_accuracy: 0.7969\n",
            "Epoch 49/100\n",
            "128/128 [==============================] - 1s 6ms/step - loss: 0.4986 - accuracy: 0.7958 - val_loss: 0.4968 - val_accuracy: 0.7969\n",
            "Epoch 50/100\n",
            "128/128 [==============================] - 1s 4ms/step - loss: 0.4995 - accuracy: 0.7958 - val_loss: 0.4960 - val_accuracy: 0.7969\n",
            "Epoch 51/100\n",
            "128/128 [==============================] - 1s 6ms/step - loss: 0.4992 - accuracy: 0.7958 - val_loss: 0.4958 - val_accuracy: 0.7969\n",
            "Epoch 52/100\n",
            "128/128 [==============================] - 1s 6ms/step - loss: 0.4991 - accuracy: 0.7958 - val_loss: 0.4959 - val_accuracy: 0.7969\n",
            "Epoch 53/100\n",
            "128/128 [==============================] - 1s 5ms/step - loss: 0.4991 - accuracy: 0.7958 - val_loss: 0.4959 - val_accuracy: 0.7969\n",
            "Epoch 54/100\n",
            "128/128 [==============================] - 1s 4ms/step - loss: 0.4990 - accuracy: 0.7958 - val_loss: 0.4961 - val_accuracy: 0.7969\n",
            "Epoch 55/100\n",
            "128/128 [==============================] - 1s 5ms/step - loss: 0.4991 - accuracy: 0.7958 - val_loss: 0.4959 - val_accuracy: 0.7969\n",
            "Epoch 56/100\n",
            "128/128 [==============================] - 1s 4ms/step - loss: 0.4989 - accuracy: 0.7958 - val_loss: 0.4959 - val_accuracy: 0.7969\n",
            "Epoch 57/100\n",
            "128/128 [==============================] - 1s 8ms/step - loss: 0.4991 - accuracy: 0.7958 - val_loss: 0.4959 - val_accuracy: 0.7969\n",
            "Epoch 58/100\n",
            "128/128 [==============================] - 1s 6ms/step - loss: 0.4989 - accuracy: 0.7958 - val_loss: 0.4961 - val_accuracy: 0.7969\n",
            "Epoch 59/100\n",
            "128/128 [==============================] - 1s 4ms/step - loss: 0.4991 - accuracy: 0.7958 - val_loss: 0.4960 - val_accuracy: 0.7969\n",
            "Epoch 60/100\n",
            "128/128 [==============================] - 1s 6ms/step - loss: 0.4989 - accuracy: 0.7958 - val_loss: 0.4961 - val_accuracy: 0.7969\n",
            "Epoch 61/100\n",
            "128/128 [==============================] - 1s 6ms/step - loss: 0.4991 - accuracy: 0.7958 - val_loss: 0.4958 - val_accuracy: 0.7969\n",
            "Epoch 62/100\n",
            "128/128 [==============================] - 0s 3ms/step - loss: 0.4989 - accuracy: 0.7958 - val_loss: 0.4962 - val_accuracy: 0.7969\n",
            "Epoch 63/100\n",
            "128/128 [==============================] - 0s 3ms/step - loss: 0.4991 - accuracy: 0.7958 - val_loss: 0.4960 - val_accuracy: 0.7969\n",
            "Epoch 64/100\n",
            "128/128 [==============================] - 0s 3ms/step - loss: 0.4991 - accuracy: 0.7958 - val_loss: 0.4960 - val_accuracy: 0.7969\n",
            "Epoch 65/100\n",
            "128/128 [==============================] - 0s 3ms/step - loss: 0.4991 - accuracy: 0.7958 - val_loss: 0.4959 - val_accuracy: 0.7969\n",
            "Epoch 66/100\n",
            "128/128 [==============================] - 0s 3ms/step - loss: 0.4991 - accuracy: 0.7958 - val_loss: 0.4958 - val_accuracy: 0.7969\n",
            "Epoch 67/100\n",
            "128/128 [==============================] - 1s 4ms/step - loss: 0.4990 - accuracy: 0.7958 - val_loss: 0.4957 - val_accuracy: 0.7969\n",
            "Epoch 68/100\n",
            "128/128 [==============================] - 1s 7ms/step - loss: 0.4991 - accuracy: 0.7958 - val_loss: 0.4957 - val_accuracy: 0.7969\n",
            "Epoch 69/100\n",
            "128/128 [==============================] - 1s 5ms/step - loss: 0.4994 - accuracy: 0.7958 - val_loss: 0.4951 - val_accuracy: 0.7969\n",
            "Epoch 70/100\n",
            "128/128 [==============================] - 0s 3ms/step - loss: 0.4991 - accuracy: 0.7958 - val_loss: 0.4954 - val_accuracy: 0.7969\n",
            "Epoch 71/100\n",
            "128/128 [==============================] - 0s 3ms/step - loss: 0.4993 - accuracy: 0.7958 - val_loss: 0.4950 - val_accuracy: 0.7969\n",
            "Epoch 72/100\n",
            "128/128 [==============================] - 0s 3ms/step - loss: 0.4991 - accuracy: 0.7958 - val_loss: 0.4951 - val_accuracy: 0.7969\n",
            "Epoch 73/100\n",
            "128/128 [==============================] - 0s 3ms/step - loss: 0.4989 - accuracy: 0.7958 - val_loss: 0.4954 - val_accuracy: 0.7969\n",
            "Epoch 74/100\n",
            "128/128 [==============================] - 0s 3ms/step - loss: 0.4993 - accuracy: 0.7958 - val_loss: 0.4950 - val_accuracy: 0.7969\n",
            "Epoch 75/100\n",
            "128/128 [==============================] - 0s 3ms/step - loss: 0.4991 - accuracy: 0.7958 - val_loss: 0.4951 - val_accuracy: 0.7969\n",
            "Epoch 76/100\n",
            "128/128 [==============================] - 0s 3ms/step - loss: 0.4992 - accuracy: 0.7958 - val_loss: 0.4955 - val_accuracy: 0.7969\n",
            "Epoch 77/100\n",
            "128/128 [==============================] - 0s 3ms/step - loss: 0.4990 - accuracy: 0.7958 - val_loss: 0.4956 - val_accuracy: 0.7969\n",
            "Epoch 78/100\n",
            "128/128 [==============================] - 0s 3ms/step - loss: 0.4992 - accuracy: 0.7958 - val_loss: 0.4951 - val_accuracy: 0.7969\n",
            "Epoch 79/100\n",
            "128/128 [==============================] - 0s 3ms/step - loss: 0.4991 - accuracy: 0.7958 - val_loss: 0.4951 - val_accuracy: 0.7969\n",
            "Epoch 80/100\n",
            "128/128 [==============================] - 0s 3ms/step - loss: 0.4992 - accuracy: 0.7958 - val_loss: 0.4955 - val_accuracy: 0.7969\n",
            "Epoch 81/100\n",
            "128/128 [==============================] - 0s 3ms/step - loss: 0.4992 - accuracy: 0.7958 - val_loss: 0.4950 - val_accuracy: 0.7969\n",
            "Epoch 82/100\n",
            "128/128 [==============================] - 0s 3ms/step - loss: 0.4992 - accuracy: 0.7958 - val_loss: 0.4951 - val_accuracy: 0.7969\n",
            "Epoch 83/100\n",
            "128/128 [==============================] - 0s 3ms/step - loss: 0.4990 - accuracy: 0.7958 - val_loss: 0.4955 - val_accuracy: 0.7969\n",
            "Epoch 84/100\n",
            "128/128 [==============================] - 0s 3ms/step - loss: 0.4991 - accuracy: 0.7958 - val_loss: 0.4950 - val_accuracy: 0.7969\n",
            "Epoch 85/100\n",
            "128/128 [==============================] - 0s 3ms/step - loss: 0.4991 - accuracy: 0.7958 - val_loss: 0.4951 - val_accuracy: 0.7969\n",
            "Epoch 86/100\n",
            "128/128 [==============================] - 0s 3ms/step - loss: 0.4992 - accuracy: 0.7958 - val_loss: 0.4950 - val_accuracy: 0.7969\n",
            "Epoch 87/100\n",
            "128/128 [==============================] - 0s 3ms/step - loss: 0.4992 - accuracy: 0.7958 - val_loss: 0.4951 - val_accuracy: 0.7969\n",
            "Epoch 88/100\n",
            "128/128 [==============================] - 0s 3ms/step - loss: 0.4992 - accuracy: 0.7958 - val_loss: 0.4950 - val_accuracy: 0.7969\n",
            "Epoch 89/100\n",
            "128/128 [==============================] - 0s 3ms/step - loss: 0.4992 - accuracy: 0.7958 - val_loss: 0.4950 - val_accuracy: 0.7969\n",
            "Epoch 90/100\n",
            "128/128 [==============================] - 0s 3ms/step - loss: 0.4990 - accuracy: 0.7958 - val_loss: 0.4951 - val_accuracy: 0.7969\n",
            "Epoch 91/100\n",
            "128/128 [==============================] - 0s 3ms/step - loss: 0.4991 - accuracy: 0.7958 - val_loss: 0.4949 - val_accuracy: 0.7969\n",
            "Epoch 92/100\n",
            "128/128 [==============================] - 0s 3ms/step - loss: 0.4990 - accuracy: 0.7958 - val_loss: 0.4952 - val_accuracy: 0.7969\n",
            "Epoch 93/100\n",
            "128/128 [==============================] - 0s 3ms/step - loss: 0.4991 - accuracy: 0.7958 - val_loss: 0.4951 - val_accuracy: 0.7969\n",
            "Epoch 94/100\n",
            "128/128 [==============================] - 0s 3ms/step - loss: 0.4992 - accuracy: 0.7958 - val_loss: 0.4952 - val_accuracy: 0.7969\n",
            "Epoch 95/100\n",
            "128/128 [==============================] - 0s 3ms/step - loss: 0.4992 - accuracy: 0.7958 - val_loss: 0.4955 - val_accuracy: 0.7969\n",
            "Epoch 96/100\n",
            "128/128 [==============================] - 0s 3ms/step - loss: 0.4990 - accuracy: 0.7958 - val_loss: 0.4956 - val_accuracy: 0.7969\n",
            "Epoch 97/100\n",
            "128/128 [==============================] - 0s 3ms/step - loss: 0.4992 - accuracy: 0.7958 - val_loss: 0.4953 - val_accuracy: 0.7969\n",
            "Epoch 98/100\n",
            "128/128 [==============================] - 0s 3ms/step - loss: 0.4991 - accuracy: 0.7958 - val_loss: 0.4950 - val_accuracy: 0.7969\n",
            "Epoch 99/100\n",
            "128/128 [==============================] - 0s 3ms/step - loss: 0.4992 - accuracy: 0.7958 - val_loss: 0.4951 - val_accuracy: 0.7969\n",
            "Epoch 100/100\n",
            "128/128 [==============================] - 0s 3ms/step - loss: 0.4991 - accuracy: 0.7958 - val_loss: 0.4950 - val_accuracy: 0.7969\n"
          ]
        }
      ]
    },
    {
      "cell_type": "code",
      "source": [
        "y_pred = model.predict(X_test)"
      ],
      "metadata": {
        "colab": {
          "base_uri": "https://localhost:8080/"
        },
        "id": "0jDCz9mWvaRE",
        "outputId": "9b85747e-4d51-428c-c916-566443a4fc09"
      },
      "execution_count": 17,
      "outputs": [
        {
          "output_type": "stream",
          "name": "stdout",
          "text": [
            "63/63 [==============================] - 0s 1ms/step\n"
          ]
        }
      ]
    },
    {
      "cell_type": "code",
      "source": [
        "y_pred"
      ],
      "metadata": {
        "colab": {
          "base_uri": "https://localhost:8080/"
        },
        "id": "rql90WCrvgYZ",
        "outputId": "d9f5c823-436f-4482-b71b-559ce0c06d50"
      },
      "execution_count": 18,
      "outputs": [
        {
          "output_type": "execute_result",
          "data": {
            "text/plain": [
              "array([[0.24366567],\n",
              "       [0.24366567],\n",
              "       [0.2279361 ],\n",
              "       ...,\n",
              "       [0.2279361 ],\n",
              "       [0.23849732],\n",
              "       [0.24366567]], dtype=float32)"
            ]
          },
          "metadata": {},
          "execution_count": 18
        }
      ]
    },
    {
      "cell_type": "code",
      "source": [
        "y_pred = y_pred.argmax(axis=-1)"
      ],
      "metadata": {
        "id": "fDpkBt4kvimr"
      },
      "execution_count": 19,
      "outputs": []
    },
    {
      "cell_type": "code",
      "source": [
        "from sklearn.metrics import accuracy_score\n",
        "accuracy_score(y_test,y_pred)"
      ],
      "metadata": {
        "colab": {
          "base_uri": "https://localhost:8080/"
        },
        "id": "GDmzg8Nuvkog",
        "outputId": "46e5f8f1-59b2-43b2-e72e-5d5173a38f40"
      },
      "execution_count": 20,
      "outputs": [
        {
          "output_type": "execute_result",
          "data": {
            "text/plain": [
              "0.7975"
            ]
          },
          "metadata": {},
          "execution_count": 20
        }
      ]
    },
    {
      "cell_type": "code",
      "source": [
        "import matplotlib.pyplot as plt\n",
        "\n",
        "plt.plot(history.history['loss'])\n",
        "plt.plot(history.history['val_loss'])"
      ],
      "metadata": {
        "colab": {
          "base_uri": "https://localhost:8080/",
          "height": 282
        },
        "id": "ftjOz4_avmrb",
        "outputId": "e3dae875-b4f0-4e09-c453-e408cbb2688f"
      },
      "execution_count": 21,
      "outputs": [
        {
          "output_type": "execute_result",
          "data": {
            "text/plain": [
              "[<matplotlib.lines.Line2D at 0x7f6882283b50>]"
            ]
          },
          "metadata": {},
          "execution_count": 21
        },
        {
          "output_type": "display_data",
          "data": {
            "text/plain": [
              "<Figure size 432x288 with 1 Axes>"
            ],
            "image/png": "[encoded data removed]"
          },
          "metadata": {
            "needs_background": "light"
          }
        }
      ]
    },
    {
      "cell_type": "code",
      "source": [
        "plt.plot(history.history['accuracy'])\n",
        "plt.plot(history.history['val_accuracy'])"
      ],
      "metadata": {
        "colab": {
          "base_uri": "https://localhost:8080/",
          "height": 282
        },
        "id": "nVSbfHXxvpNV",
        "outputId": "ab5aec50-8c20-4776-be8f-f753345f17d6"
      },
      "execution_count": 22,
      "outputs": [
        {
          "output_type": "execute_result",
          "data": {
            "text/plain": [
              "[<matplotlib.lines.Line2D at 0x7f6881d8bd50>]"
            ]
          },
          "metadata": {},
          "execution_count": 22
        },
        {
          "output_type": "display_data",
          "data": {
            "text/plain": [
              "<Figure size 432x288 with 1 Axes>"
            ],
            "image/png": "[encoded data removed]"
          },
          "metadata": {
            "needs_background": "light"
          }
        }
      ]
    }
  ]
}